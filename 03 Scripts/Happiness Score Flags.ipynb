{
 "cells": [
  {
   "cell_type": "markdown",
   "id": "1dfd92cd",
   "metadata": {},
   "source": [
    "# Contents\n",
    "### 1. Import Libraries and Data\n",
    "### 2. Creation of happiness_flag\n",
    "### 3. Export Data"
   ]
  },
  {
   "cell_type": "markdown",
   "id": "29fb82ef",
   "metadata": {},
   "source": [
    "# 1. Import Libraries and Data"
   ]
  },
  {
   "cell_type": "code",
   "execution_count": 1,
   "id": "4767baea",
   "metadata": {},
   "outputs": [],
   "source": [
    "import pandas as pd\n",
    "import numpy as np\n",
    "import seaborn as sns\n",
    "import matplotlib\n",
    "import os\n",
    "import folium\n",
    "import json"
   ]
  },
  {
   "cell_type": "code",
   "execution_count": 2,
   "id": "2a552b2b",
   "metadata": {},
   "outputs": [],
   "source": [
    "%matplotlib inline"
   ]
  },
  {
   "cell_type": "code",
   "execution_count": 3,
   "id": "9fffcbd3",
   "metadata": {},
   "outputs": [],
   "source": [
    "path= r'C:\\Users\\spada\\OneDrive\\Data Analytics\\World Happiness Report'"
   ]
  },
  {
   "cell_type": "code",
   "execution_count": 4,
   "id": "1f80ba03",
   "metadata": {},
   "outputs": [],
   "source": [
    "df_combined=pd.read_pickle(os.path.join(path, '02 Data','Prepared Data', 'df_combined.pkl'))"
   ]
  },
  {
   "cell_type": "code",
   "execution_count": 5,
   "id": "bd90eb29",
   "metadata": {},
   "outputs": [
    {
     "data": {
      "text/html": [
       "<div>\n",
       "<style scoped>\n",
       "    .dataframe tbody tr th:only-of-type {\n",
       "        vertical-align: middle;\n",
       "    }\n",
       "\n",
       "    .dataframe tbody tr th {\n",
       "        vertical-align: top;\n",
       "    }\n",
       "\n",
       "    .dataframe thead th {\n",
       "        text-align: right;\n",
       "    }\n",
       "</style>\n",
       "<table border=\"1\" class=\"dataframe\">\n",
       "  <thead>\n",
       "    <tr style=\"text-align: right;\">\n",
       "      <th></th>\n",
       "      <th></th>\n",
       "      <th>country/region</th>\n",
       "      <th>happiness_rank</th>\n",
       "      <th>happiness_score</th>\n",
       "      <th>gdp_per_capita</th>\n",
       "      <th>social_support</th>\n",
       "      <th>health</th>\n",
       "      <th>freedom</th>\n",
       "      <th>trust_in_government</th>\n",
       "      <th>generosity</th>\n",
       "      <th>year</th>\n",
       "      <th>happiness_flag</th>\n",
       "    </tr>\n",
       "    <tr>\n",
       "      <th>year</th>\n",
       "      <th></th>\n",
       "      <th></th>\n",
       "      <th></th>\n",
       "      <th></th>\n",
       "      <th></th>\n",
       "      <th></th>\n",
       "      <th></th>\n",
       "      <th></th>\n",
       "      <th></th>\n",
       "      <th></th>\n",
       "      <th></th>\n",
       "      <th></th>\n",
       "    </tr>\n",
       "  </thead>\n",
       "  <tbody>\n",
       "    <tr>\n",
       "      <th rowspan=\"5\" valign=\"top\">2015</th>\n",
       "      <th>0</th>\n",
       "      <td>Switzerland</td>\n",
       "      <td>1</td>\n",
       "      <td>7.587</td>\n",
       "      <td>1.39651</td>\n",
       "      <td>1.34951</td>\n",
       "      <td>0.94143</td>\n",
       "      <td>0.66557</td>\n",
       "      <td>0.41978</td>\n",
       "      <td>0.29678</td>\n",
       "      <td>2015</td>\n",
       "      <td>most_happy</td>\n",
       "    </tr>\n",
       "    <tr>\n",
       "      <th>1</th>\n",
       "      <td>Iceland</td>\n",
       "      <td>2</td>\n",
       "      <td>7.561</td>\n",
       "      <td>1.30232</td>\n",
       "      <td>1.40223</td>\n",
       "      <td>0.94784</td>\n",
       "      <td>0.62877</td>\n",
       "      <td>0.14145</td>\n",
       "      <td>0.43630</td>\n",
       "      <td>2015</td>\n",
       "      <td>most_happy</td>\n",
       "    </tr>\n",
       "    <tr>\n",
       "      <th>2</th>\n",
       "      <td>Denmark</td>\n",
       "      <td>3</td>\n",
       "      <td>7.527</td>\n",
       "      <td>1.32548</td>\n",
       "      <td>1.36058</td>\n",
       "      <td>0.87464</td>\n",
       "      <td>0.64938</td>\n",
       "      <td>0.48357</td>\n",
       "      <td>0.34139</td>\n",
       "      <td>2015</td>\n",
       "      <td>most_happy</td>\n",
       "    </tr>\n",
       "    <tr>\n",
       "      <th>3</th>\n",
       "      <td>Norway</td>\n",
       "      <td>4</td>\n",
       "      <td>7.522</td>\n",
       "      <td>1.45900</td>\n",
       "      <td>1.33095</td>\n",
       "      <td>0.88521</td>\n",
       "      <td>0.66973</td>\n",
       "      <td>0.36503</td>\n",
       "      <td>0.34699</td>\n",
       "      <td>2015</td>\n",
       "      <td>most_happy</td>\n",
       "    </tr>\n",
       "    <tr>\n",
       "      <th>4</th>\n",
       "      <td>Canada</td>\n",
       "      <td>5</td>\n",
       "      <td>7.427</td>\n",
       "      <td>1.32629</td>\n",
       "      <td>1.32261</td>\n",
       "      <td>0.90563</td>\n",
       "      <td>0.63297</td>\n",
       "      <td>0.32957</td>\n",
       "      <td>0.45811</td>\n",
       "      <td>2015</td>\n",
       "      <td>most_happy</td>\n",
       "    </tr>\n",
       "    <tr>\n",
       "      <th>...</th>\n",
       "      <th>...</th>\n",
       "      <td>...</td>\n",
       "      <td>...</td>\n",
       "      <td>...</td>\n",
       "      <td>...</td>\n",
       "      <td>...</td>\n",
       "      <td>...</td>\n",
       "      <td>...</td>\n",
       "      <td>...</td>\n",
       "      <td>...</td>\n",
       "      <td>...</td>\n",
       "      <td>...</td>\n",
       "    </tr>\n",
       "    <tr>\n",
       "      <th rowspan=\"5\" valign=\"top\">2019</th>\n",
       "      <th>151</th>\n",
       "      <td>Rwanda</td>\n",
       "      <td>152</td>\n",
       "      <td>3.334</td>\n",
       "      <td>0.35900</td>\n",
       "      <td>0.71100</td>\n",
       "      <td>0.61400</td>\n",
       "      <td>0.55500</td>\n",
       "      <td>0.41100</td>\n",
       "      <td>0.21700</td>\n",
       "      <td>2019</td>\n",
       "      <td>least_happy</td>\n",
       "    </tr>\n",
       "    <tr>\n",
       "      <th>152</th>\n",
       "      <td>Tanzania</td>\n",
       "      <td>153</td>\n",
       "      <td>3.231</td>\n",
       "      <td>0.47600</td>\n",
       "      <td>0.88500</td>\n",
       "      <td>0.49900</td>\n",
       "      <td>0.41700</td>\n",
       "      <td>0.14700</td>\n",
       "      <td>0.27600</td>\n",
       "      <td>2019</td>\n",
       "      <td>least_happy</td>\n",
       "    </tr>\n",
       "    <tr>\n",
       "      <th>153</th>\n",
       "      <td>Afghanistan</td>\n",
       "      <td>154</td>\n",
       "      <td>3.203</td>\n",
       "      <td>0.35000</td>\n",
       "      <td>0.51700</td>\n",
       "      <td>0.36100</td>\n",
       "      <td>0.00000</td>\n",
       "      <td>0.02500</td>\n",
       "      <td>0.15800</td>\n",
       "      <td>2019</td>\n",
       "      <td>least_happy</td>\n",
       "    </tr>\n",
       "    <tr>\n",
       "      <th>154</th>\n",
       "      <td>Central African Republic</td>\n",
       "      <td>155</td>\n",
       "      <td>3.083</td>\n",
       "      <td>0.02600</td>\n",
       "      <td>0.00000</td>\n",
       "      <td>0.10500</td>\n",
       "      <td>0.22500</td>\n",
       "      <td>0.03500</td>\n",
       "      <td>0.23500</td>\n",
       "      <td>2019</td>\n",
       "      <td>least_happy</td>\n",
       "    </tr>\n",
       "    <tr>\n",
       "      <th>155</th>\n",
       "      <td>South Sudan</td>\n",
       "      <td>156</td>\n",
       "      <td>2.853</td>\n",
       "      <td>0.30600</td>\n",
       "      <td>0.57500</td>\n",
       "      <td>0.29500</td>\n",
       "      <td>0.01000</td>\n",
       "      <td>0.09100</td>\n",
       "      <td>0.20200</td>\n",
       "      <td>2019</td>\n",
       "      <td>least_happy</td>\n",
       "    </tr>\n",
       "  </tbody>\n",
       "</table>\n",
       "<p>782 rows × 11 columns</p>\n",
       "</div>"
      ],
      "text/plain": [
       "                    country/region  happiness_rank  happiness_score  \\\n",
       "year                                                                  \n",
       "2015 0                 Switzerland               1            7.587   \n",
       "     1                     Iceland               2            7.561   \n",
       "     2                     Denmark               3            7.527   \n",
       "     3                      Norway               4            7.522   \n",
       "     4                      Canada               5            7.427   \n",
       "...                            ...             ...              ...   \n",
       "2019 151                    Rwanda             152            3.334   \n",
       "     152                  Tanzania             153            3.231   \n",
       "     153               Afghanistan             154            3.203   \n",
       "     154  Central African Republic             155            3.083   \n",
       "     155               South Sudan             156            2.853   \n",
       "\n",
       "          gdp_per_capita  social_support   health  freedom  \\\n",
       "year                                                         \n",
       "2015 0           1.39651         1.34951  0.94143  0.66557   \n",
       "     1           1.30232         1.40223  0.94784  0.62877   \n",
       "     2           1.32548         1.36058  0.87464  0.64938   \n",
       "     3           1.45900         1.33095  0.88521  0.66973   \n",
       "     4           1.32629         1.32261  0.90563  0.63297   \n",
       "...                  ...             ...      ...      ...   \n",
       "2019 151         0.35900         0.71100  0.61400  0.55500   \n",
       "     152         0.47600         0.88500  0.49900  0.41700   \n",
       "     153         0.35000         0.51700  0.36100  0.00000   \n",
       "     154         0.02600         0.00000  0.10500  0.22500   \n",
       "     155         0.30600         0.57500  0.29500  0.01000   \n",
       "\n",
       "          trust_in_government  generosity  year happiness_flag  \n",
       "year                                                            \n",
       "2015 0                0.41978     0.29678  2015     most_happy  \n",
       "     1                0.14145     0.43630  2015     most_happy  \n",
       "     2                0.48357     0.34139  2015     most_happy  \n",
       "     3                0.36503     0.34699  2015     most_happy  \n",
       "     4                0.32957     0.45811  2015     most_happy  \n",
       "...                       ...         ...   ...            ...  \n",
       "2019 151              0.41100     0.21700  2019    least_happy  \n",
       "     152              0.14700     0.27600  2019    least_happy  \n",
       "     153              0.02500     0.15800  2019    least_happy  \n",
       "     154              0.03500     0.23500  2019    least_happy  \n",
       "     155              0.09100     0.20200  2019    least_happy  \n",
       "\n",
       "[782 rows x 11 columns]"
      ]
     },
     "execution_count": 5,
     "metadata": {},
     "output_type": "execute_result"
    }
   ],
   "source": [
    "df_combined"
   ]
  },
  {
   "cell_type": "markdown",
   "id": "7670bcdc",
   "metadata": {},
   "source": [
    "# 2. Creation of happiness_flag"
   ]
  },
  {
   "cell_type": "code",
   "execution_count": 6,
   "id": "c1583eeb",
   "metadata": {},
   "outputs": [],
   "source": [
    "#Assigning happiness flag labels\n",
    "df_combined.loc[df_combined['happiness_score'] < 4.5, 'happiness_flag'] = 'least_happy'"
   ]
  },
  {
   "cell_type": "code",
   "execution_count": 7,
   "id": "ad5640f0",
   "metadata": {},
   "outputs": [],
   "source": [
    "df_combined.loc[(df_combined['happiness_score'] >= 4.5) & (df_combined['happiness_score'] < 6), 'happiness_flag'] = 'average_happy'"
   ]
  },
  {
   "cell_type": "code",
   "execution_count": 8,
   "id": "7bbdf4a2",
   "metadata": {},
   "outputs": [],
   "source": [
    "#Assigning happiness flag labels\n",
    "df_combined.loc[df_combined['happiness_score'] >= 6, 'happiness_flag'] = 'most_happy'"
   ]
  },
  {
   "cell_type": "code",
   "execution_count": 9,
   "id": "af19b2cf",
   "metadata": {
    "scrolled": true
   },
   "outputs": [
    {
     "data": {
      "text/plain": [
       "average_happy    355\n",
       "most_happy       235\n",
       "least_happy      192\n",
       "Name: happiness_flag, dtype: int64"
      ]
     },
     "execution_count": 9,
     "metadata": {},
     "output_type": "execute_result"
    }
   ],
   "source": [
    "df_combined ['happiness_flag'].value_counts(dropna=False)"
   ]
  },
  {
   "cell_type": "code",
   "execution_count": null,
   "id": "b5eed9a4",
   "metadata": {},
   "outputs": [],
   "source": [
    "happiness_variables_bar=df_combined['order_day_of_week'].value_counts().sort_index().plot.bar(color = ['lightsteelblue', 'cornflowerblue', 'dodgerblue', 'steelblue', 'blue', 'mediumblue', 'midnightblue'])\n",
    "plt.title('Order Frequency according to Day of the Week', fontsize = 14, pad=20)\n",
    "plt.ylabel('Frequency', fontsize = 12)\n",
    "plt.xlabel('Days of the Week',  fontsize = 12)"
   ]
  },
  {
   "cell_type": "markdown",
   "id": "8c13c2b8",
   "metadata": {},
   "source": [
    "# 3. Export Data"
   ]
  },
  {
   "cell_type": "code",
   "execution_count": 14,
   "id": "6cb23574",
   "metadata": {},
   "outputs": [],
   "source": [
    "# Exporting df_combined since I added a \"happiness_flag\"\n",
    "df_combined.to_pickle(os.path.join(path, '02 Data','Prepared Data', 'df_combined.pkl'))"
   ]
  },
  {
   "cell_type": "code",
   "execution_count": 15,
   "id": "191740bb",
   "metadata": {},
   "outputs": [],
   "source": [
    "df_combined.to_csv(os.path.join(path, '02 Data','Prepared Data', 'df_combined.csv'))"
   ]
  },
  {
   "cell_type": "code",
   "execution_count": null,
   "id": "7c25b5a7",
   "metadata": {},
   "outputs": [],
   "source": []
  }
 ],
 "metadata": {
  "kernelspec": {
   "display_name": "Python 3 (ipykernel)",
   "language": "python",
   "name": "python3"
  },
  "language_info": {
   "codemirror_mode": {
    "name": "ipython",
    "version": 3
   },
   "file_extension": ".py",
   "mimetype": "text/x-python",
   "name": "python",
   "nbconvert_exporter": "python",
   "pygments_lexer": "ipython3",
   "version": "3.9.13"
  }
 },
 "nbformat": 4,
 "nbformat_minor": 5
}
